{
 "cells": [
  {
   "cell_type": "code",
   "execution_count": 1,
   "metadata": {
    "collapsed": true
   },
   "outputs": [],
   "source": [
    "import pandas as pd\n",
    "import numpy as np\n",
    "import os\n",
    "import sqlalchemy\n",
    "from sqlalchemy import create_engine, MetaData\n",
    "from sqlalchemy.orm import sessionmaker\n",
    "from sqlalchemy.ext.declarative import declarative_base\n",
    "from sqlalchemy import Column, Integer, String, Numeric, Text, Float\n",
    "\n",
    "from sqlalchemy.ext.automap import automap_base\n",
    "from sqlalchemy.orm import Session\n",
    "from sqlalchemy import create_engine, func\n",
    "\n",
    "from flask import (\n",
    "    Flask,\n",
    "    render_template,\n",
    "    jsonify)"
   ]
  },
  {
   "cell_type": "code",
   "execution_count": 2,
   "metadata": {},
   "outputs": [
    {
     "data": {
      "text/plain": [
       "['merged_drivers_data']"
      ]
     },
     "execution_count": 2,
     "metadata": {},
     "output_type": "execute_result"
    }
   ],
   "source": [
    "# Create Database Connection\n",
    "\n",
    "engine = create_engine('sqlite:///Merged_Drivers_Data.sqlite')\n",
    "\n",
    "Base = automap_base()\n",
    "\n",
    "Base.prepare(engine, reflect=True)\n",
    "\n",
    "session = Session(engine)\n",
    "\n",
    "Base.classes.keys()"
   ]
  },
  {
   "cell_type": "code",
   "execution_count": 3,
   "metadata": {
    "collapsed": true
   },
   "outputs": [],
   "source": [
    "merged_drivers_data = Base.classes.merged_drivers_data"
   ]
  },
  {
   "cell_type": "code",
   "execution_count": 8,
   "metadata": {},
   "outputs": [
    {
     "name": "stdout",
     "output_type": "stream",
     "text": [
      "id\n",
      "state\n",
      "fatalities_rate_per_100_million\n",
      "failure_to_obey\n",
      "careless_driving\n",
      "drunk_driving\n",
      "speeding\n",
      "total_score\n",
      "ranking_2017\n",
      "population\n",
      "vehicle_miles_traveled\n",
      "fatal_crashes\n",
      "deaths\n",
      "deaths_per_hunderd_thousand\n",
      "deaths_per_hundred_million_miles_traveled\n"
     ]
    }
   ],
   "source": [
    "driver_columns = merged_drivers_data.__table__.columns\n",
    "for x in driver_columns:\n",
    "    print(x.key)"
   ]
  },
  {
   "cell_type": "code",
   "execution_count": 12,
   "metadata": {},
   "outputs": [
    {
     "data": {
      "text/plain": [
       "[('Alabama', 26),\n",
       " ('Alaska', 35),\n",
       " ('Arizona', 37),\n",
       " ('Arkansas', 6),\n",
       " ('California', 29),\n",
       " ('Colorado', 44),\n",
       " ('Connecticut', 24),\n",
       " ('Delaware', 22),\n",
       " ('District of Columbia', 30),\n",
       " ('Florida', 1),\n",
       " ('Georgia', 9),\n",
       " ('Hawaii', 47),\n",
       " ('Idaho', 13),\n",
       " ('Illinois', 42),\n",
       " ('Indiana', 27),\n",
       " ('Iowa', 5),\n",
       " ('Kansas', 39),\n",
       " ('Kentucky', 7),\n",
       " ('Louisiana', 14),\n",
       " ('Maine', 43),\n",
       " ('Maryland', 17),\n",
       " ('Massachusetts', 19),\n",
       " ('Michigan', 23),\n",
       " ('Minnesota', 11),\n",
       " ('Mississippi', 3),\n",
       " ('Missouri', 38),\n",
       " ('Montana', 46),\n",
       " ('Nebraska', 4),\n",
       " ('Nevada', 36),\n",
       " ('New Hampshire', 51),\n",
       " ('New Jersey', 15),\n",
       " ('New Mexico', 48),\n",
       " ('New York', 31),\n",
       " ('North Carolina', 45),\n",
       " ('North Dakota', 34),\n",
       " ('Ohio', 8),\n",
       " ('Oklahoma', 21),\n",
       " ('Oregon', 20),\n",
       " ('Pennsylvania', 50),\n",
       " ('Rhode Island', 49),\n",
       " ('South Carolina', 41),\n",
       " ('South Dakota', 16),\n",
       " ('Tennessee', 10),\n",
       " ('Texas', 32),\n",
       " ('Utah', 12),\n",
       " ('Vermont', 40),\n",
       " ('Virginia', 2),\n",
       " ('Washington', 25),\n",
       " ('West Virginia', 18),\n",
       " ('Wisconsin', 28),\n",
       " ('Wyoming', 33)]"
      ]
     },
     "execution_count": 12,
     "metadata": {},
     "output_type": "execute_result"
    }
   ],
   "source": [
    "speeding_result = session.query(merged_drivers_data.state,merged_drivers_data.speeding).all()\n",
    "speeding_result"
   ]
  },
  {
   "cell_type": "code",
   "execution_count": null,
   "metadata": {
    "collapsed": true
   },
   "outputs": [],
   "source": []
  }
 ],
 "metadata": {
  "kernelspec": {
   "display_name": "Python 3",
   "language": "python",
   "name": "python3"
  },
  "language_info": {
   "codemirror_mode": {
    "name": "ipython",
    "version": 3
   },
   "file_extension": ".py",
   "mimetype": "text/x-python",
   "name": "python",
   "nbconvert_exporter": "python",
   "pygments_lexer": "ipython3",
   "version": "3.6.3"
  }
 },
 "nbformat": 4,
 "nbformat_minor": 2
}
