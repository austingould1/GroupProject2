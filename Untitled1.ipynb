{
 "cells": [
  {
   "cell_type": "code",
   "execution_count": 1,
   "metadata": {
    "collapsed": true
   },
   "outputs": [],
   "source": [
    "from flask import Flask, jsonify, render_template\n",
    "import sqlalchemy\n",
    "from sqlalchemy.ext.automap import automap_base\n",
    "from sqlalchemy.sql import func \n",
    "from sqlalchemy.orm import Session\n",
    "from sqlalchemy import create_engine, desc, inspect\n",
    "import pandas as pd\n",
    "import operator\n",
    "import itertools"
   ]
  },
  {
   "cell_type": "code",
   "execution_count": 14,
   "metadata": {},
   "outputs": [
    {
     "name": "stdout",
     "output_type": "stream",
     "text": [
      "id INTEGER\n",
      "state VARCHAR\n",
      "fatalities_rate_per_100_million INTEGER\n",
      "failure_to_obey INTEGER\n",
      "careless_driving INTEGER\n",
      "drunk_driving INTEGER\n",
      "speeding INTEGER\n",
      "total_score INTEGER\n",
      "ranking_2017 INTEGER\n",
      "population INTEGER\n",
      "vehicle_miles_traveled INTEGER\n",
      "fatal_crashes INTEGER\n",
      "deaths INTEGER\n",
      "deaths_per_hunderd_thousand INTEGER\n",
      "deaths_per_hundred_million_miles_traveled INTEGER\n"
     ]
    },
    {
     "data": {
      "text/plain": [
       "{'Arizona': 50, 'Louisiana': 49, 'Montana': 51, 'Nevada': 47, 'Texas': 48}"
      ]
     },
     "execution_count": 14,
     "metadata": {},
     "output_type": "execute_result"
    }
   ],
   "source": [
    "engine = create_engine(\"sqlite:///Merged_Drivers_Data.sqlite\")\n",
    "\n",
    "Base = automap_base()\n",
    "Base.prepare(engine, reflect=True)\n",
    "merged_drivers_data = Base.classes.merged_drivers_data\n",
    "\n",
    "session = Session(engine)\n",
    "inspector = inspect(engine)\n",
    "columns = inspector.get_columns('merged_drivers_data')\n",
    "for column in columns:\n",
    "    print(column[\"name\"], column[\"type\"])\n",
    "\n",
    "total_fatalities = session.query(func.sum(merged_drivers_data.fatal_crashes)).all()\n",
    "\n",
    "\n",
    "query_results = session.query(merged_drivers_data)\n",
    "\n",
    "state_list=[]\n",
    "ranking=[]\n",
    "for state in query_results:\n",
    "    state_list.append(state.state)\n",
    "    ranking.append(state.ranking_2017)\n",
    "\n",
    "keys = state_list\n",
    "values = ranking\n",
    "\n",
    "table_dict = dict(zip(keys, values))\n",
    "\n",
    "overall_best_drivers = dict(sorted(table_dict.items(), key=operator.itemgetter(1), reverse=True)[:5])\n",
    "overall_best_drivers\n",
    "\n",
    "#overall_worst_drivers = dict(sorted(table_dict.items(), key=operator.itemgetter(1))[:5])\n",
    "#overall_worst_drivers\n"
   ]
  },
  {
   "cell_type": "code",
   "execution_count": 12,
   "metadata": {},
   "outputs": [
    {
     "data": {
      "text/plain": [
       "dict_values([41, 25, 50, 26, 35, 37, 21, 44, 18, 27, 12, 34, 22, 27, 20, 1, 16, 31, 49, 40, 11, 7, 10, 2, 39, 33, 51, 13, 47, 17, 4, 45, 18, 43, 42, 4, 35, 29, 23, 38, 46, 15, 24, 48, 8, 6, 3, 13, 9, 31, 29])"
      ]
     },
     "execution_count": 12,
     "metadata": {},
     "output_type": "execute_result"
    }
   ],
   "source": [
    "table_dict.values()"
   ]
  },
  {
   "cell_type": "code",
   "execution_count": 13,
   "metadata": {},
   "outputs": [
    {
     "data": {
      "text/plain": [
       "dict_keys(['Alabama', 'Alaska', 'Arizona', 'Arkansas', 'California', 'Colorado', 'Connecticut', 'Delaware', 'District of Columbia', 'Florida', 'Georgia', 'Hawaii', 'Idaho', 'Illinois', 'Indiana', 'Iowa', 'Kansas', 'Kentucky', 'Louisiana', 'Maine', 'Maryland', 'Massachusetts', 'Michigan', 'Minnesota', 'Mississippi', 'Missouri', 'Montana', 'Nebraska', 'Nevada', 'New Hampshire', 'New Jersey', 'New Mexico', 'New York', 'North Carolina', 'North Dakota', 'Ohio', 'Oklahoma', 'Oregon', 'Pennsylvania', 'Rhode Island', 'South Carolina', 'South Dakota', 'Tennessee', 'Texas', 'Utah', 'Vermont', 'Virginia', 'Washington', 'West Virginia', 'Wisconsin', 'Wyoming'])"
      ]
     },
     "execution_count": 13,
     "metadata": {},
     "output_type": "execute_result"
    }
   ],
   "source": [
    "table_dict.keys()"
   ]
  },
  {
   "cell_type": "code",
   "execution_count": null,
   "metadata": {
    "collapsed": true
   },
   "outputs": [],
   "source": []
  }
 ],
 "metadata": {
  "kernelspec": {
   "display_name": "Python 3",
   "language": "python",
   "name": "python3"
  },
  "language_info": {
   "codemirror_mode": {
    "name": "ipython",
    "version": 3
   },
   "file_extension": ".py",
   "mimetype": "text/x-python",
   "name": "python",
   "nbconvert_exporter": "python",
   "pygments_lexer": "ipython3",
   "version": "3.6.2"
  }
 },
 "nbformat": 4,
 "nbformat_minor": 2
}
