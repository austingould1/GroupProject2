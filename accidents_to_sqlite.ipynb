{
 "cells": [
  {
   "cell_type": "code",
   "execution_count": 1,
   "metadata": {},
   "outputs": [],
   "source": [
    "import pandas as pd\n",
    "import numpy as np\n",
    "import os\n",
    "import sqlalchemy\n",
    "from sqlalchemy import create_engine, MetaData\n",
    "from sqlalchemy.orm import sessionmaker\n",
    "from sqlalchemy.ext.declarative import declarative_base\n",
    "from sqlalchemy import Column, Integer, String, Numeric, Text, Float"
   ]
  },
  {
   "cell_type": "code",
   "execution_count": 2,
   "metadata": {},
   "outputs": [],
   "source": [
    "engine = create_engine(\"sqlite:///accidents.sqlite\")"
   ]
  },
  {
   "cell_type": "code",
   "execution_count": 3,
   "metadata": {},
   "outputs": [],
   "source": [
    "conn = engine.connect()"
   ]
  },
  {
   "cell_type": "code",
   "execution_count": 4,
   "metadata": {},
   "outputs": [],
   "source": [
    "Base = declarative_base()"
   ]
  },
  {
   "cell_type": "code",
   "execution_count": null,
   "metadata": {},
   "outputs": [],
   "source": [
    "class Reviews(Base):\n",
    "    __tablename__ = 'accidents'\n",
    "    \n",
    "    id = Column(Integer, primary_key=True)\n",
    "    STATE = Column(Integer)\n",
    "    ST_CASE = Column(Integer)\n",
    "    VE_TOTAL = Column(Integer)\n",
    "    VE_FORMS = Column(Integer)\n",
    "    PVH_INVL = Column(Integer)\n",
    "    PEDS = Column(Integer)\n",
    "    PERNOTMVIT = Column(Integer)\n",
    "    PERMVIT = Column(Integer)\n",
    "    PERSONS = Column(Integer)\n",
    "    COUNTY = Column(Integer)\n",
    "    CITY = Column(Integer)\n",
    "    winery = Column(Text)"
   ]
  },
  {
   "cell_type": "code",
   "execution_count": 5,
   "metadata": {},
   "outputs": [],
   "source": [
    "accidents = pd.read_csv('accident.csv')"
   ]
  },
  {
   "cell_type": "code",
   "execution_count": 19,
   "metadata": {},
   "outputs": [
    {
     "data": {
      "text/plain": [
       "STATE           int64\n",
       "ST_CASE         int64\n",
       "VE_TOTAL        int64\n",
       "VE_FORMS        int64\n",
       "PVH_INVL        int64\n",
       "PEDS            int64\n",
       "PERNOTMVIT      int64\n",
       "PERMVIT         int64\n",
       "PERSONS         int64\n",
       "COUNTY          int64\n",
       "CITY            int64\n",
       "DAY             int64\n",
       "MONTH           int64\n",
       "YEAR            int64\n",
       "DAY_WEEK        int64\n",
       "HOUR            int64\n",
       "MINUTE          int64\n",
       "NHS             int64\n",
       "RUR_URB         int64\n",
       "FUNC_SYS        int64\n",
       "RD_OWNER        int64\n",
       "ROUTE           int64\n",
       "TWAY_ID        object\n",
       "TWAY_ID2       object\n",
       "MILEPT          int64\n",
       "LATITUDE      float64\n",
       "LONGITUD      float64\n",
       "SP_JUR          int64\n",
       "HARM_EV         int64\n",
       "MAN_COLL        int64\n",
       "RELJCT1         int64\n",
       "RELJCT2         int64\n",
       "TYP_INT         int64\n",
       "WRK_ZONE        int64\n",
       "REL_ROAD        int64\n",
       "LGT_COND        int64\n",
       "WEATHER1        int64\n",
       "WEATHER2        int64\n",
       "WEATHER         int64\n",
       "SCH_BUS         int64\n",
       "RAIL           object\n",
       "NOT_HOUR        int64\n",
       "NOT_MIN         int64\n",
       "ARR_HOUR        int64\n",
       "ARR_MIN         int64\n",
       "HOSP_HR         int64\n",
       "HOSP_MN         int64\n",
       "CF1             int64\n",
       "CF2             int64\n",
       "CF3             int64\n",
       "FATALS          int64\n",
       "DRUNK_DR        int64\n",
       "dtype: object"
      ]
     },
     "execution_count": 19,
     "metadata": {},
     "output_type": "execute_result"
    }
   ],
   "source": [
    "accidents.dtypes"
   ]
  },
  {
   "cell_type": "code",
   "execution_count": 12,
   "metadata": {},
   "outputs": [
    {
     "data": {
      "text/plain": [
       "STATE           int64\n",
       "ST_CASE         int64\n",
       "VE_TOTAL        int64\n",
       "VE_FORMS        int64\n",
       "PVH_INVL        int64\n",
       "PEDS            int64\n",
       "PERNOTMVIT      int64\n",
       "PERMVIT         int64\n",
       "PERSONS         int64\n",
       "COUNTY          int64\n",
       "CITY            int64\n",
       "DAY             int64\n",
       "MONTH           int64\n",
       "YEAR            int64\n",
       "DAY_WEEK        int64\n",
       "HOUR            int64\n",
       "MINUTE          int64\n",
       "NHS             int64\n",
       "RUR_URB         int64\n",
       "FUNC_SYS        int64\n",
       "RD_OWNER        int64\n",
       "ROUTE           int64\n",
       "TWAY_ID        object\n",
       "TWAY_ID2       object\n",
       "MILEPT          int64\n",
       "LATITUDE      float64\n",
       "LONGITUD      float64\n",
       "SP_JUR          int64\n",
       "HARM_EV         int64\n",
       "MAN_COLL        int64\n",
       "RELJCT1         int64\n",
       "RELJCT2         int64\n",
       "TYP_INT         int64\n",
       "WRK_ZONE        int64\n",
       "REL_ROAD        int64\n",
       "LGT_COND        int64\n",
       "WEATHER1        int64\n",
       "WEATHER2        int64\n",
       "WEATHER         int64\n",
       "SCH_BUS         int64\n",
       "RAIL           object\n",
       "NOT_HOUR        int64\n",
       "NOT_MIN         int64\n",
       "ARR_HOUR        int64\n",
       "ARR_MIN         int64\n",
       "HOSP_HR         int64\n",
       "HOSP_MN         int64\n",
       "CF1             int64\n",
       "CF2             int64\n",
       "CF3             int64\n",
       "FATALS          int64\n",
       "DRUNK_DR        int64\n",
       "dtype: object"
      ]
     },
     "execution_count": 12,
     "metadata": {},
     "output_type": "execute_result"
    }
   ],
   "source": []
  },
  {
   "cell_type": "code",
   "execution_count": null,
   "metadata": {},
   "outputs": [],
   "source": []
  }
 ],
 "metadata": {
  "kernelspec": {
   "display_name": "Python 3",
   "language": "python",
   "name": "python3"
  },
  "language_info": {
   "codemirror_mode": {
    "name": "ipython",
    "version": 3
   },
   "file_extension": ".py",
   "mimetype": "text/x-python",
   "name": "python",
   "nbconvert_exporter": "python",
   "pygments_lexer": "ipython3",
   "version": "3.6.3"
  }
 },
 "nbformat": 4,
 "nbformat_minor": 2
}
