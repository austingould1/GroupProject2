{
 "cells": [
  {
   "cell_type": "code",
   "execution_count": 1,
   "metadata": {
    "collapsed": true
   },
   "outputs": [],
   "source": [
    "from flask import Flask, jsonify, render_template\n",
    "import sqlalchemy\n",
    "from sqlalchemy.ext.automap import automap_base\n",
    "from sqlalchemy.sql import func \n",
    "from sqlalchemy.orm import Session\n",
    "from sqlalchemy import create_engine, desc, inspect\n",
    "import pandas as pd\n",
    "import operator\n",
    "import itertools"
   ]
  },
  {
   "cell_type": "code",
   "execution_count": 10,
   "metadata": {},
   "outputs": [
    {
     "name": "stdout",
     "output_type": "stream",
     "text": [
      "id INTEGER\n",
      "state VARCHAR\n",
      "fatalities_rate_per_100_million INTEGER\n",
      "failure_to_obey INTEGER\n",
      "careless_driving INTEGER\n",
      "drunk_driving INTEGER\n",
      "speeding INTEGER\n",
      "total_score INTEGER\n",
      "ranking_2017 INTEGER\n",
      "population INTEGER\n",
      "vehicle_miles_traveled INTEGER\n",
      "fatal_crashes INTEGER\n",
      "deaths INTEGER\n",
      "deaths_per_hunderd_thousand INTEGER\n",
      "deaths_per_hundred_million_miles_traveled INTEGER\n"
     ]
    },
    {
     "data": {
      "text/plain": [
       "{'Iowa': 1, 'Minnesota': 2, 'New Jersey': 4, 'Ohio': 4, 'Virginia': 3}"
      ]
     },
     "execution_count": 10,
     "metadata": {},
     "output_type": "execute_result"
    }
   ],
   "source": [
    "engine = create_engine(\"sqlite:///Merged_Drivers_Data.sqlite\")\n",
    "\n",
    "Base = automap_base()\n",
    "Base.prepare(engine, reflect=True)\n",
    "merged_drivers_data = Base.classes.merged_drivers_data\n",
    "\n",
    "session = Session(engine)\n",
    "inspector = inspect(engine)\n",
    "columns = inspector.get_columns('merged_drivers_data')\n",
    "for column in columns:\n",
    "    print(column[\"name\"], column[\"type\"])\n",
    "\n",
    "total_fatalities = session.query(func.sum(merged_drivers_data.fatal_crashes)).all()\n",
    "\n",
    "\n",
    "query_results = session.query(merged_drivers_data)\n",
    "\n",
    "state_list=[]\n",
    "ranking=[]\n",
    "for state in query_results:\n",
    "    state_list.append(state.state)\n",
    "    ranking.append(state.ranking_2017)\n",
    "\n",
    "keys = state_list\n",
    "values = ranking\n",
    "\n",
    "table_dict = dict(zip(keys, values))\n",
    "\n",
    "overall_best_drivers = dict(sorted(table_dict.items(), key=operator.itemgetter(1), reverse=True)[:5])\n",
    "overall_best_drivers\n",
    "\n",
    "overall_worst_drivers = dict(sorted(table_dict.items(), key=operator.itemgetter(1))[:5])\n",
    "overall_worst_drivers\n"
   ]
  },
  {
   "cell_type": "code",
   "execution_count": 11,
   "metadata": {},
   "outputs": [
    {
     "data": {
      "text/plain": [
       "{'Alabama': 41,\n",
       " 'Alaska': 25,\n",
       " 'Arizona': 50,\n",
       " 'Arkansas': 26,\n",
       " 'California': 35,\n",
       " 'Colorado': 37,\n",
       " 'Connecticut': 21,\n",
       " 'Delaware': 44,\n",
       " 'District of Columbia': 18,\n",
       " 'Florida': 27,\n",
       " 'Georgia': 12,\n",
       " 'Hawaii': 34,\n",
       " 'Idaho': 22,\n",
       " 'Illinois': 27,\n",
       " 'Indiana': 20,\n",
       " 'Iowa': 1,\n",
       " 'Kansas': 16,\n",
       " 'Kentucky': 31,\n",
       " 'Louisiana': 49,\n",
       " 'Maine': 40,\n",
       " 'Maryland': 11,\n",
       " 'Massachusetts': 7,\n",
       " 'Michigan': 10,\n",
       " 'Minnesota': 2,\n",
       " 'Mississippi': 39,\n",
       " 'Missouri': 33,\n",
       " 'Montana': 51,\n",
       " 'Nebraska': 13,\n",
       " 'Nevada': 47,\n",
       " 'New Hampshire': 17,\n",
       " 'New Jersey': 4,\n",
       " 'New Mexico': 45,\n",
       " 'New York': 18,\n",
       " 'North Carolina': 43,\n",
       " 'North Dakota': 42,\n",
       " 'Ohio': 4,\n",
       " 'Oklahoma': 35,\n",
       " 'Oregon': 29,\n",
       " 'Pennsylvania': 23,\n",
       " 'Rhode Island': 38,\n",
       " 'South Carolina': 46,\n",
       " 'South Dakota': 15,\n",
       " 'Tennessee': 24,\n",
       " 'Texas': 48,\n",
       " 'Utah': 8,\n",
       " 'Vermont': 6,\n",
       " 'Virginia': 3,\n",
       " 'Washington': 13,\n",
       " 'West Virginia': 9,\n",
       " 'Wisconsin': 31,\n",
       " 'Wyoming': 29}"
      ]
     },
     "execution_count": 11,
     "metadata": {},
     "output_type": "execute_result"
    }
   ],
   "source": [
    "table_dict"
   ]
  },
  {
   "cell_type": "code",
   "execution_count": 9,
   "metadata": {},
   "outputs": [
    {
     "data": {
      "text/plain": [
       "{'Iowa': 1, 'Minnesota': 2, 'New Jersey': 4, 'Ohio': 4, 'Virginia': 3}"
      ]
     },
     "execution_count": 9,
     "metadata": {},
     "output_type": "execute_result"
    }
   ],
   "source": []
  },
  {
   "cell_type": "code",
   "execution_count": null,
   "metadata": {
    "collapsed": true
   },
   "outputs": [],
   "source": []
  }
 ],
 "metadata": {
  "kernelspec": {
   "display_name": "Python 3",
   "language": "python",
   "name": "python3"
  },
  "language_info": {
   "codemirror_mode": {
    "name": "ipython",
    "version": 3
   },
   "file_extension": ".py",
   "mimetype": "text/x-python",
   "name": "python",
   "nbconvert_exporter": "python",
   "pygments_lexer": "ipython3",
   "version": "3.6.2"
  }
 },
 "nbformat": 4,
 "nbformat_minor": 2
}
