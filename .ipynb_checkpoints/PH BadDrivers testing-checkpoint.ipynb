{
 "cells": [
  {
   "cell_type": "code",
   "execution_count": 2,
   "metadata": {
    "collapsed": true
   },
   "outputs": [],
   "source": [
    "from flask import Flask, jsonify, render_template\n",
    "import sqlalchemy\n",
    "from sqlalchemy.ext.automap import automap_base\n",
    "from sqlalchemy.sql import func \n",
    "from sqlalchemy.orm import Session\n",
    "from sqlalchemy import create_engine, desc, inspect\n",
    "import pandas as pd\n",
    "import operator\n",
    "import itertools"
   ]
  },
  {
   "cell_type": "code",
   "execution_count": 3,
   "metadata": {},
   "outputs": [
    {
     "name": "stdout",
     "output_type": "stream",
     "text": [
      "['Alabama', 'Alaska', 'Arizona', 'Arkansas', 'California', 'Colorado', 'Connecticut', 'Delaware', 'District of Columbia', 'Florida', 'Georgia', 'Hawaii', 'Idaho', 'Illinois', 'Indiana', 'Iowa', 'Kansas', 'Kentucky', 'Louisiana', 'Maine', 'Maryland', 'Massachusetts', 'Michigan', 'Minnesota', 'Mississippi', 'Missouri', 'Montana', 'Nebraska', 'Nevada', 'New Hampshire', 'New Jersey', 'New Mexico', 'New York', 'North Carolina', 'North Dakota', 'Ohio', 'Oklahoma', 'Oregon', 'Pennsylvania', 'Rhode Island', 'South Carolina', 'South Dakota', 'Tennessee', 'Texas', 'Utah', 'Vermont', 'Virginia', 'Washington', 'West Virginia', 'Wisconsin', 'Wyoming']\n",
      "[41, 25, 50, 26, 35, 37, 21, 44, 18, 27, 12, 34, 22, 27, 20, 1, 16, 31, 49, 40, 11, 7, 10, 2, 39, 33, 51, 13, 47, 17, 4, 45, 18, 43, 42, 4, 35, 29, 23, 38, 46, 15, 24, 48, 8, 6, 3, 13, 9, 31, 29]\n"
     ]
    },
    {
     "ename": "TypeError",
     "evalue": "'ascending' is an invalid keyword argument for this function",
     "output_type": "error",
     "traceback": [
      "\u001b[1;31m---------------------------------------------------------------------------\u001b[0m",
      "\u001b[1;31mTypeError\u001b[0m                                 Traceback (most recent call last)",
      "\u001b[1;32m<ipython-input-3-41727e06c1bb>\u001b[0m in \u001b[0;36m<module>\u001b[1;34m()\u001b[0m\n\u001b[0;32m     32\u001b[0m \u001b[1;31m#table_dict = dict(zip(keys, values))\u001b[0m\u001b[1;33m\u001b[0m\u001b[1;33m\u001b[0m\u001b[0m\n\u001b[0;32m     33\u001b[0m \u001b[1;31m#print(table_dict)\u001b[0m\u001b[1;33m\u001b[0m\u001b[1;33m\u001b[0m\u001b[0m\n\u001b[1;32m---> 34\u001b[1;33m \u001b[0mranking\u001b[0m\u001b[1;33m.\u001b[0m\u001b[0msort\u001b[0m\u001b[1;33m(\u001b[0m\u001b[0mascending\u001b[0m\u001b[1;33m=\u001b[0m\u001b[1;32mTrue\u001b[0m\u001b[1;33m)\u001b[0m\u001b[1;33m\u001b[0m\u001b[0m\n\u001b[0m\u001b[0;32m     35\u001b[0m \u001b[1;33m\u001b[0m\u001b[0m\n\u001b[0;32m     36\u001b[0m \u001b[1;33m\u001b[0m\u001b[0m\n",
      "\u001b[1;31mTypeError\u001b[0m: 'ascending' is an invalid keyword argument for this function"
     ]
    }
   ],
   "source": [
    "engine = create_engine(\"sqlite:///Merged_Drivers_Data.sqlite\")\n",
    "\n",
    "Base = automap_base()\n",
    "Base.prepare(engine, reflect=True)\n",
    "merged_drivers_data = Base.classes.merged_drivers_data\n",
    "\n",
    "\n",
    "session = Session(engine)\n",
    "\n",
    "#PH Analysis for Pie Chart: % of Total Fatalities owned by each State\n",
    "inspector = inspect(engine)\n",
    "columns = inspector.get_columns('merged_drivers_data')\n",
    "\n",
    "\n",
    "total_fatalities = session.query(func.sum(merged_drivers_data.fatal_crashes)).all()\n",
    "\n",
    "\n",
    "query_results = session.query(merged_drivers_data)\n",
    "\n",
    "state_list=[]\n",
    "ranking=[]\n",
    "for state in query_results:\n",
    "    state_list.append(state.state)\n",
    "    ranking.append(state.ranking_2017)\n",
    "#scatter_keys = pop_size\n",
    "#scatter_values = fatalities_count\n",
    "#scatter_dict = dict(zip(scatter_keys, scatter_values))\n",
    "print(state_list)\n",
    "print(ranking)\n",
    "#keys = state_list\n",
    "#values = ranking\n",
    "#table_dict = dict(zip(keys, values))\n",
    "#print(table_dict)\n",
    "ranking.sort(ascending=True)\n",
    " \n",
    "\n",
    "#table_df = pd.DataFrame(table_dict)"
   ]
  },
  {
   "cell_type": "code",
   "execution_count": null,
   "metadata": {
    "collapsed": true
   },
   "outputs": [],
   "source": [
    "#PH Table Chart\n",
    "\n",
    "@app.route(\"/table_me\")\n",
    "def table():\n",
    "\n",
    "        engine = create_engine(\"sqlite:///Merged_Drivers_Data.sqlite\")\n",
    "\n",
    "        Base = automap_base()\n",
    "        Base.prepare(engine, reflect=True)\n",
    "        merged_drivers_data = Base.classes.merged_drivers_data\n",
    "\n",
    "        session = Session(engine)\n",
    "        inspector = inspect(engine)\n",
    "        columns = inspector.get_columns('merged_drivers_data')\n",
    "        for column in columns:\n",
    "            print(column[\"name\"], column[\"type\"])\n",
    "\n",
    "\n",
    "        query_results = session.query(merged_drivers_data)\n",
    "\n",
    "        state_list=[]\n",
    "        ranking=[]\n",
    "        for state in query_results:\n",
    "            state_list.append(state.state)\n",
    "            ranking.append(state.ranking_2017)\n",
    "        \n",
    "        keys = state_list\n",
    "        values = ranking\n",
    "\n",
    "        table_dict = dict(zip(keys, values))\n",
    "        return jsonify(table_dict)\n",
    "\n",
    "if __name__ == '__main__':\n",
    "    app.run(debug=True)"
   ]
  }
 ],
 "metadata": {
  "kernelspec": {
   "display_name": "Python 3",
   "language": "python",
   "name": "python3"
  },
  "language_info": {
   "codemirror_mode": {
    "name": "ipython",
    "version": 3
   },
   "file_extension": ".py",
   "mimetype": "text/x-python",
   "name": "python",
   "nbconvert_exporter": "python",
   "pygments_lexer": "ipython3",
   "version": "3.6.2"
  }
 },
 "nbformat": 4,
 "nbformat_minor": 2
}
