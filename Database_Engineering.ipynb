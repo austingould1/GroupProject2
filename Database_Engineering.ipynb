{
 "cells": [
  {
   "cell_type": "markdown",
   "metadata": {},
   "source": [
    "# Database Engineering"
   ]
  },
  {
   "cell_type": "code",
   "execution_count": 1,
   "metadata": {
    "collapsed": true
   },
   "outputs": [],
   "source": [
    "# Read in dependencies\n",
    "import pandas as pd\n",
    "import sqlalchemy\n",
    "from sqlalchemy import create_engine, MetaData\n",
    "from sqlalchemy.ext.declarative import declarative_base\n",
    "from sqlalchemy import Column, Integer, String, Numeric, Text, Float, Date"
   ]
  },
  {
   "cell_type": "code",
   "execution_count": 2,
   "metadata": {
    "collapsed": true
   },
   "outputs": [],
   "source": [
    "# Create an engine to a SQLite database called 'wine.sqlite'\n",
    "engine = create_engine(\"sqlite:///merged_data_2.sqlite\")"
   ]
  },
  {
   "cell_type": "code",
   "execution_count": 3,
   "metadata": {
    "collapsed": true
   },
   "outputs": [],
   "source": [
    "# Create a connection to the engine\n",
    "conn = engine.connect()"
   ]
  },
  {
   "cell_type": "markdown",
   "metadata": {},
   "source": [
    "## Creating Table"
   ]
  },
  {
   "cell_type": "code",
   "execution_count": 6,
   "metadata": {
    "collapsed": true
   },
   "outputs": [],
   "source": [
    "# Use declarative_base to model the measurements \n",
    "Base = declarative_base()\n",
    "\n",
    "\n",
    "class traffic(Base):\n",
    "    __tablename__ = 'traffic'\n",
    "\n",
    "    id = Column(Integer, primary_key=True)\n",
    "    State = Column(Text)\n",
    "    Fatalities_Rate_Per_100_Million = Column(Integer)\n",
    "    Failure_To_Obey = Column(Integer)\n",
    "    Careless_Driving = Column(Integer)\n",
    "    Drunk_Driving = Column(Integer)\n",
    "    Speeding = Column(Integer)\n",
    "    Total_Score = Column(Integer)\n",
    "    Ranking_2017 = Column(Integer)\n",
    "    Population = Column(Integer)\n",
    "    Vehicle_Miles_Traveled = Column(Integer)\n",
    "    Fatal_Crashes=Column(Integer)\n",
    "    Deaths = Column(Integer)\n",
    "    Deaths_Per_Hunderd_Thousand = Column(Float)\n",
    "    Deaths_Per_Hundred_Million_Miles_Traveled = Column(Float)"
   ]
  },
  {
   "cell_type": "code",
   "execution_count": 7,
   "metadata": {
    "collapsed": true
   },
   "outputs": [],
   "source": [
    "# Create the Reviews table in the database\n",
    "Base.metadata.create_all(engine)"
   ]
  },
  {
   "cell_type": "code",
   "execution_count": 9,
   "metadata": {},
   "outputs": [
    {
     "data": {
      "text/html": [
       "<div>\n",
       "<style>\n",
       "    .dataframe thead tr:only-child th {\n",
       "        text-align: right;\n",
       "    }\n",
       "\n",
       "    .dataframe thead th {\n",
       "        text-align: left;\n",
       "    }\n",
       "\n",
       "    .dataframe tbody tr th {\n",
       "        vertical-align: top;\n",
       "    }\n",
       "</style>\n",
       "<table border=\"1\" class=\"dataframe\">\n",
       "  <thead>\n",
       "    <tr style=\"text-align: right;\">\n",
       "      <th></th>\n",
       "      <th>Fatalities_Rate_Per_100_Million</th>\n",
       "      <th>Failure_To_Obey</th>\n",
       "      <th>Careless_Driving</th>\n",
       "      <th>Drunk_Driving</th>\n",
       "      <th>Speeding</th>\n",
       "      <th>Total_Score</th>\n",
       "      <th>Ranking_2017</th>\n",
       "      <th>Population</th>\n",
       "      <th>Vehicle_Miles_Traveled</th>\n",
       "      <th>Fatal_Crashes</th>\n",
       "      <th>Deaths</th>\n",
       "      <th>Deaths_Per_Hunderd_Thousand</th>\n",
       "      <th>Deaths_Per_Hundred_Million_Miles_Traveled</th>\n",
       "    </tr>\n",
       "    <tr>\n",
       "      <th>State</th>\n",
       "      <th></th>\n",
       "      <th></th>\n",
       "      <th></th>\n",
       "      <th></th>\n",
       "      <th></th>\n",
       "      <th></th>\n",
       "      <th></th>\n",
       "      <th></th>\n",
       "      <th></th>\n",
       "      <th></th>\n",
       "      <th></th>\n",
       "      <th></th>\n",
       "      <th></th>\n",
       "    </tr>\n",
       "  </thead>\n",
       "  <tbody>\n",
       "    <tr>\n",
       "      <th>Alabama</th>\n",
       "      <td>34</td>\n",
       "      <td>38</td>\n",
       "      <td>42</td>\n",
       "      <td>19</td>\n",
       "      <td>26</td>\n",
       "      <td>159</td>\n",
       "      <td>41</td>\n",
       "      <td>4863300</td>\n",
       "      <td>69553</td>\n",
       "      <td>937</td>\n",
       "      <td>1038</td>\n",
       "      <td>21.3</td>\n",
       "      <td>1.49</td>\n",
       "    </tr>\n",
       "    <tr>\n",
       "      <th>Alaska</th>\n",
       "      <td>36</td>\n",
       "      <td>8</td>\n",
       "      <td>25</td>\n",
       "      <td>24</td>\n",
       "      <td>35</td>\n",
       "      <td>128</td>\n",
       "      <td>25</td>\n",
       "      <td>741894</td>\n",
       "      <td>5030</td>\n",
       "      <td>78</td>\n",
       "      <td>84</td>\n",
       "      <td>11.3</td>\n",
       "      <td>1.67</td>\n",
       "    </tr>\n",
       "  </tbody>\n",
       "</table>\n",
       "</div>"
      ],
      "text/plain": [
       "         Fatalities_Rate_Per_100_Million  Failure_To_Obey  Careless_Driving  \\\n",
       "State                                                                         \n",
       "Alabama                               34               38                42   \n",
       "Alaska                                36                8                25   \n",
       "\n",
       "         Drunk_Driving  Speeding  Total_Score  Ranking_2017  Population  \\\n",
       "State                                                                     \n",
       "Alabama             19        26          159            41     4863300   \n",
       "Alaska              24        35          128            25      741894   \n",
       "\n",
       "         Vehicle_Miles_Traveled  Fatal_Crashes  Deaths  \\\n",
       "State                                                    \n",
       "Alabama                   69553            937    1038   \n",
       "Alaska                     5030             78      84   \n",
       "\n",
       "         Deaths_Per_Hunderd_Thousand  \\\n",
       "State                                  \n",
       "Alabama                         21.3   \n",
       "Alaska                          11.3   \n",
       "\n",
       "         Deaths_Per_Hundred_Million_Miles_Traveled  \n",
       "State                                               \n",
       "Alabama                                       1.49  \n",
       "Alaska                                        1.67  "
      ]
     },
     "execution_count": 9,
     "metadata": {},
     "output_type": "execute_result"
    }
   ],
   "source": [
    "# Load the cleaned csv file \n",
    "df = pd.read_csv(\"Merged_Drivers_Data.csv\", index_col=0, encoding='utf-8')\n",
    "df.head(2)"
   ]
  },
  {
   "cell_type": "code",
   "execution_count": 10,
   "metadata": {
    "collapsed": true
   },
   "outputs": [],
   "source": [
    "# Change wine_df to a dictionary\n",
    "# orient='records' makes the dictionary list-like [{column -> value}]\n",
    "data_reviews = df.to_dict(orient='records')"
   ]
  },
  {
   "cell_type": "code",
   "execution_count": 11,
   "metadata": {},
   "outputs": [
    {
     "data": {
      "text/plain": [
       "{'Careless_Driving': 42.0,\n",
       " 'Deaths': 1038.0,\n",
       " 'Deaths_Per_Hunderd_Thousand': 21.300000000000001,\n",
       " 'Deaths_Per_Hundred_Million_Miles_Traveled': 1.49,\n",
       " 'Drunk_Driving': 19.0,\n",
       " 'Failure_To_Obey': 38.0,\n",
       " 'Fatal_Crashes': 937.0,\n",
       " 'Fatalities_Rate_Per_100_Million': 34.0,\n",
       " 'Population': 4863300.0,\n",
       " 'Ranking_2017': 41.0,\n",
       " 'Speeding': 26.0,\n",
       " 'Total_Score': 159.0,\n",
       " 'Vehicle_Miles_Traveled': 69553.0}"
      ]
     },
     "execution_count": 11,
     "metadata": {},
     "output_type": "execute_result"
    }
   ],
   "source": [
    "# Data is now a list of dictionaries that represent each row of data.\n",
    "data_reviews[0]"
   ]
  },
  {
   "cell_type": "code",
   "execution_count": 12,
   "metadata": {
    "collapsed": true
   },
   "outputs": [],
   "source": [
    "# Use MetaData from SQLAlchemy to reflect the tables\n",
    "metadata = MetaData(bind=engine)\n",
    "metadata.reflect()"
   ]
  },
  {
   "cell_type": "code",
   "execution_count": 13,
   "metadata": {
    "collapsed": true
   },
   "outputs": [],
   "source": [
    "# Save the referenct to the 'reviews' table\n",
    "reviews_table = sqlalchemy.Table('reviews', metadata, autoload=True)"
   ]
  },
  {
   "cell_type": "code",
   "execution_count": 14,
   "metadata": {},
   "outputs": [
    {
     "data": {
      "text/plain": [
       "<sqlalchemy.engine.result.ResultProxy at 0x1c379f23d30>"
      ]
     },
     "execution_count": 14,
     "metadata": {},
     "output_type": "execute_result"
    }
   ],
   "source": [
    "# Delete any pre-existing table\n",
    "# DO NOT USE STEP IN PRODUCTION\n",
    "conn.execute(reviews_table.delete())"
   ]
  },
  {
   "cell_type": "code",
   "execution_count": 15,
   "metadata": {},
   "outputs": [
    {
     "data": {
      "text/plain": [
       "<sqlalchemy.engine.result.ResultProxy at 0x1c37a0408d0>"
      ]
     },
     "execution_count": 15,
     "metadata": {},
     "output_type": "execute_result"
    }
   ],
   "source": [
    "# Insert data into the table\n",
    "conn.execute(reviews_table.insert(), data_reviews)"
   ]
  },
  {
   "cell_type": "code",
   "execution_count": 16,
   "metadata": {},
   "outputs": [
    {
     "data": {
      "text/plain": [
       "[(1, None, None, None, None, None, None, None, None, None, None, None, None, None),\n",
       " (2, None, None, None, None, None, None, None, None, None, None, None, None, None),\n",
       " (3, None, None, None, None, None, None, None, None, None, None, None, None, None),\n",
       " (4, None, None, None, None, None, None, None, None, None, None, None, None, None),\n",
       " (5, None, None, None, None, None, None, None, None, None, None, None, None, None)]"
      ]
     },
     "execution_count": 16,
     "metadata": {},
     "output_type": "execute_result"
    }
   ],
   "source": [
    "# Test the first 5 rows\n",
    "conn.execute('SELECT * FROM reviews LIMIT 5').fetchall()"
   ]
  },
  {
   "cell_type": "code",
   "execution_count": null,
   "metadata": {
    "collapsed": true
   },
   "outputs": [],
   "source": []
  }
 ],
 "metadata": {
  "kernelspec": {
   "display_name": "Python 3",
   "language": "python",
   "name": "python3"
  },
  "language_info": {
   "codemirror_mode": {
    "name": "ipython",
    "version": 3
   },
   "file_extension": ".py",
   "mimetype": "text/x-python",
   "name": "python",
   "nbconvert_exporter": "python",
   "pygments_lexer": "ipython3",
   "version": "3.6.3"
  }
 },
 "nbformat": 4,
 "nbformat_minor": 2
}
