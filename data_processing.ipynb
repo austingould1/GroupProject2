{
 "cells": [
  {
   "cell_type": "code",
   "execution_count": 40,
   "metadata": {
    "collapsed": true
   },
   "outputs": [],
   "source": [
    "import pandas as pd\n",
    "import numpy as np\n",
    "import os\n",
    "import sqlalchemy\n",
    "from sqlalchemy import create_engine, MetaData\n",
    "from sqlalchemy.ext.declarative import declarative_base\n",
    "from sqlalchemy import Column, Integer, String, Numeric, Text, Float"
   ]
  },
  {
   "cell_type": "code",
   "execution_count": 41,
   "metadata": {
    "collapsed": true
   },
   "outputs": [],
   "source": [
    "merged_driver_data = pd.read_csv(\"./Merged_Drivers_Data.csv\")"
   ]
  },
  {
   "cell_type": "code",
   "execution_count": 54,
   "metadata": {},
   "outputs": [
    {
     "data": {
      "text/plain": [
       "State                                                                            object\n",
       "Fatalities Rate per 100 Million Vehicle Miles Traveled                            int64\n",
       "Failure to Obey (Traffic Safety Device, Seat Belt, & Invalid Driver License)      int64\n",
       "Careless Driving                                                                  int64\n",
       "Drunk Driving                                                                     int64\n",
       "Speeding                                                                          int64\n",
       "Total Score                                                                       int64\n",
       "2017 Ranking                                                                      int64\n",
       "Population                                                                        int64\n",
       "Vehicle miles traveled (millions)                                                 int64\n",
       "Fatal crashes                                                                     int64\n",
       "Deaths                                                                            int64\n",
       "Deaths per 100,000 population                                                   float64\n",
       "Deaths per 100 million vehicle miles traveled                                   float64\n",
       "dtype: object"
      ]
     },
     "execution_count": 54,
     "metadata": {},
     "output_type": "execute_result"
    }
   ],
   "source": [
    ">>> merged_driver_data['State'].astype(\"str\")\n",
    "merged_driver_data.dtypes"
   ]
  },
  {
   "cell_type": "code",
   "execution_count": 43,
   "metadata": {},
   "outputs": [
    {
     "data": {
      "text/html": [
       "<div>\n",
       "<style>\n",
       "    .dataframe thead tr:only-child th {\n",
       "        text-align: right;\n",
       "    }\n",
       "\n",
       "    .dataframe thead th {\n",
       "        text-align: left;\n",
       "    }\n",
       "\n",
       "    .dataframe tbody tr th {\n",
       "        vertical-align: top;\n",
       "    }\n",
       "</style>\n",
       "<table border=\"1\" class=\"dataframe\">\n",
       "  <thead>\n",
       "    <tr style=\"text-align: right;\">\n",
       "      <th></th>\n",
       "      <th>State</th>\n",
       "      <th>Fatalities Rate per 100 Million Vehicle Miles Traveled</th>\n",
       "      <th>Failure to Obey (Traffic Safety Device, Seat Belt, &amp; Invalid Driver License)</th>\n",
       "      <th>Careless Driving</th>\n",
       "      <th>Drunk Driving</th>\n",
       "      <th>Speeding</th>\n",
       "      <th>Total Score</th>\n",
       "      <th>2017 Ranking</th>\n",
       "      <th>Population</th>\n",
       "      <th>Vehicle miles traveled (millions)</th>\n",
       "      <th>Fatal crashes</th>\n",
       "      <th>Deaths</th>\n",
       "      <th>Deaths per 100,000 population</th>\n",
       "      <th>Deaths per 100 million vehicle miles traveled</th>\n",
       "    </tr>\n",
       "  </thead>\n",
       "  <tbody>\n",
       "    <tr>\n",
       "      <th>0</th>\n",
       "      <td>Alabama</td>\n",
       "      <td>34</td>\n",
       "      <td>38</td>\n",
       "      <td>42</td>\n",
       "      <td>19</td>\n",
       "      <td>26</td>\n",
       "      <td>159</td>\n",
       "      <td>41</td>\n",
       "      <td>4863300</td>\n",
       "      <td>69553</td>\n",
       "      <td>937</td>\n",
       "      <td>1038</td>\n",
       "      <td>21.3</td>\n",
       "      <td>1.49</td>\n",
       "    </tr>\n",
       "    <tr>\n",
       "      <th>1</th>\n",
       "      <td>Alaska</td>\n",
       "      <td>36</td>\n",
       "      <td>8</td>\n",
       "      <td>25</td>\n",
       "      <td>24</td>\n",
       "      <td>35</td>\n",
       "      <td>128</td>\n",
       "      <td>25</td>\n",
       "      <td>741894</td>\n",
       "      <td>5030</td>\n",
       "      <td>78</td>\n",
       "      <td>84</td>\n",
       "      <td>11.3</td>\n",
       "      <td>1.67</td>\n",
       "    </tr>\n",
       "    <tr>\n",
       "      <th>2</th>\n",
       "      <td>Arizona</td>\n",
       "      <td>42</td>\n",
       "      <td>45</td>\n",
       "      <td>46</td>\n",
       "      <td>36</td>\n",
       "      <td>37</td>\n",
       "      <td>206</td>\n",
       "      <td>50</td>\n",
       "      <td>6931071</td>\n",
       "      <td>66859</td>\n",
       "      <td>865</td>\n",
       "      <td>962</td>\n",
       "      <td>13.9</td>\n",
       "      <td>1.44</td>\n",
       "    </tr>\n",
       "    <tr>\n",
       "      <th>3</th>\n",
       "      <td>Arkansas</td>\n",
       "      <td>47</td>\n",
       "      <td>30</td>\n",
       "      <td>24</td>\n",
       "      <td>22</td>\n",
       "      <td>6</td>\n",
       "      <td>129</td>\n",
       "      <td>26</td>\n",
       "      <td>2988248</td>\n",
       "      <td>36093</td>\n",
       "      <td>488</td>\n",
       "      <td>545</td>\n",
       "      <td>18.2</td>\n",
       "      <td>1.51</td>\n",
       "    </tr>\n",
       "    <tr>\n",
       "      <th>4</th>\n",
       "      <td>California</td>\n",
       "      <td>15</td>\n",
       "      <td>35</td>\n",
       "      <td>43</td>\n",
       "      <td>27</td>\n",
       "      <td>29</td>\n",
       "      <td>149</td>\n",
       "      <td>35</td>\n",
       "      <td>39250017</td>\n",
       "      <td>366402</td>\n",
       "      <td>3357</td>\n",
       "      <td>3623</td>\n",
       "      <td>9.2</td>\n",
       "      <td>0.99</td>\n",
       "    </tr>\n",
       "  </tbody>\n",
       "</table>\n",
       "</div>"
      ],
      "text/plain": [
       "        State  Fatalities Rate per 100 Million Vehicle Miles Traveled  \\\n",
       "0     Alabama                                                 34        \n",
       "1      Alaska                                                 36        \n",
       "2     Arizona                                                 42        \n",
       "3    Arkansas                                                 47        \n",
       "4  California                                                 15        \n",
       "\n",
       "   Failure to Obey (Traffic Safety Device, Seat Belt, & Invalid Driver License)  \\\n",
       "0                                                 38                              \n",
       "1                                                  8                              \n",
       "2                                                 45                              \n",
       "3                                                 30                              \n",
       "4                                                 35                              \n",
       "\n",
       "   Careless Driving  Drunk Driving  Speeding  Total Score  2017 Ranking  \\\n",
       "0                42             19        26          159            41   \n",
       "1                25             24        35          128            25   \n",
       "2                46             36        37          206            50   \n",
       "3                24             22         6          129            26   \n",
       "4                43             27        29          149            35   \n",
       "\n",
       "   Population  Vehicle miles traveled (millions)  Fatal crashes  Deaths  \\\n",
       "0     4863300                              69553            937    1038   \n",
       "1      741894                               5030             78      84   \n",
       "2     6931071                              66859            865     962   \n",
       "3     2988248                              36093            488     545   \n",
       "4    39250017                             366402           3357    3623   \n",
       "\n",
       "   Deaths per 100,000 population  \\\n",
       "0                           21.3   \n",
       "1                           11.3   \n",
       "2                           13.9   \n",
       "3                           18.2   \n",
       "4                            9.2   \n",
       "\n",
       "   Deaths per 100 million vehicle miles traveled  \n",
       "0                                           1.49  \n",
       "1                                           1.67  \n",
       "2                                           1.44  \n",
       "3                                           1.51  \n",
       "4                                           0.99  "
      ]
     },
     "execution_count": 43,
     "metadata": {},
     "output_type": "execute_result"
    }
   ],
   "source": [
    "merged_driver_data.head()\n",
    "\n"
   ]
  },
  {
   "cell_type": "code",
   "execution_count": 66,
   "metadata": {},
   "outputs": [
    {
     "data": {
      "text/plain": [
       "{'2017 Ranking': 41,\n",
       " 'Careless Driving': 42,\n",
       " 'Deaths': 1038,\n",
       " 'Deaths per 100 million vehicle miles traveled': 1.49,\n",
       " 'Deaths per 100,000 population': 21.3,\n",
       " 'Drunk Driving': 19,\n",
       " 'Failure to Obey (Traffic Safety Device, Seat Belt, & Invalid Driver License)': 38,\n",
       " 'Fatal crashes': 937,\n",
       " 'Fatalities Rate per 100 Million Vehicle Miles Traveled': 34,\n",
       " 'Population': 4863300,\n",
       " 'Speeding': 26,\n",
       " 'State': 'Alabama',\n",
       " 'Total Score': 159,\n",
       " 'Vehicle miles traveled (millions)': 69553}"
      ]
     },
     "execution_count": 66,
     "metadata": {},
     "output_type": "execute_result"
    }
   ],
   "source": [
    "\n",
    "data=merged_driver_data.to_dict(orient='records')\n",
    "data[0]\n",
    "\n"
   ]
  },
  {
   "cell_type": "code",
   "execution_count": 1,
   "metadata": {},
   "outputs": [
    {
     "ename": "NameError",
     "evalue": "name 'create_engine' is not defined",
     "output_type": "error",
     "traceback": [
      "\u001b[1;31m---------------------------------------------------------------------------\u001b[0m",
      "\u001b[1;31mNameError\u001b[0m                                 Traceback (most recent call last)",
      "\u001b[1;32m<ipython-input-1-4180f8bbfaed>\u001b[0m in \u001b[0;36m<module>\u001b[1;34m()\u001b[0m\n\u001b[1;32m----> 1\u001b[1;33m \u001b[0mengine\u001b[0m \u001b[1;33m=\u001b[0m \u001b[0mcreate_engine\u001b[0m\u001b[1;33m(\u001b[0m\u001b[1;34m\"sqlite:///traffic.sqlite\"\u001b[0m\u001b[1;33m)\u001b[0m\u001b[1;33m\u001b[0m\u001b[0m\n\u001b[0m\u001b[0;32m      2\u001b[0m \u001b[0mconn\u001b[0m \u001b[1;33m=\u001b[0m \u001b[0mengine\u001b[0m\u001b[1;33m.\u001b[0m\u001b[0mconnect\u001b[0m\u001b[1;33m(\u001b[0m\u001b[1;33m)\u001b[0m\u001b[1;33m\u001b[0m\u001b[0m\n\u001b[0;32m      3\u001b[0m \u001b[0mBase\u001b[0m \u001b[1;33m=\u001b[0m \u001b[0mdeclarative_base\u001b[0m\u001b[1;33m(\u001b[0m\u001b[1;33m)\u001b[0m\u001b[1;33m\u001b[0m\u001b[0m\n\u001b[0;32m      4\u001b[0m \u001b[1;33m\u001b[0m\u001b[0m\n\u001b[0;32m      5\u001b[0m \u001b[1;32mclass\u001b[0m \u001b[0mtraffic\u001b[0m\u001b[1;33m(\u001b[0m\u001b[0mBase\u001b[0m\u001b[1;33m)\u001b[0m\u001b[1;33m:\u001b[0m\u001b[1;33m\u001b[0m\u001b[0m\n",
      "\u001b[1;31mNameError\u001b[0m: name 'create_engine' is not defined"
     ]
    }
   ],
   "source": [
    "engine = create_engine(\"sqlite:///traffic.sqlite\")\n",
    "conn = engine.connect()\n",
    "Base = declarative_base()\n",
    "\n",
    "class traffic(Base):\n",
    "    __tablename__ = 'traffic'\n",
    "\n",
    "    id = Column(Integer, primary_key=True)\n",
    "    State = Column(String)\n",
    "    Fatalities_Rate_Per_100_Million = Column(Integer)\n",
    "    Failure_To_Obey = Column(Integer)\n",
    "    Careless_Driving = Column(Integer)\n",
    "    Drunk_Driving = Column(Integer)\n",
    "    Speeding = Column(Integer)\n",
    "    Total_Score = Column(Integer)\n",
    "    Ranking_2017 = Column(Integer)\n",
    "    Population = Column(Integer)\n",
    "    Vehicle_Miles_Traveled = Column(Integer)\n",
    "    Fatal_Crashes=Column(Integer)\n",
    "    Deaths = Column(Integer)\n",
    "    Deaths_Per_Hunderd_Thousand = Column(Float)\n",
    "    Deaths_Per_Hundred_Million_Miles_Traveled = Column(Float)\n",
    "\n",
    "    def __repr__(self):\n",
    "        return f\"id={self.id}, name={self.name}\"\n",
    "\n",
    "Base.metadata.create_all(engine)\n",
    "\n"
   ]
  },
  {
   "cell_type": "code",
   "execution_count": 62,
   "metadata": {
    "collapsed": true
   },
   "outputs": [],
   "source": [
    "metadata = MetaData(bind=engine)\n",
    "metadata.reflect()\n",
    "\n",
    "table= sqlalchemy.Table('traffic',metadata,autoload=True)"
   ]
  },
  {
   "cell_type": "code",
   "execution_count": 63,
   "metadata": {},
   "outputs": [
    {
     "data": {
      "text/plain": [
       "<sqlalchemy.engine.result.ResultProxy at 0x1e7f2c76780>"
      ]
     },
     "execution_count": 63,
     "metadata": {},
     "output_type": "execute_result"
    }
   ],
   "source": [
    "conn.execute(table.delete())"
   ]
  },
  {
   "cell_type": "code",
   "execution_count": 64,
   "metadata": {},
   "outputs": [
    {
     "data": {
      "text/plain": [
       "<sqlalchemy.engine.result.ResultProxy at 0x1e7f2c4dc18>"
      ]
     },
     "execution_count": 64,
     "metadata": {},
     "output_type": "execute_result"
    }
   ],
   "source": [
    "conn.execute(table.insert(),data)"
   ]
  },
  {
   "cell_type": "code",
   "execution_count": 65,
   "metadata": {},
   "outputs": [
    {
     "data": {
      "text/plain": [
       "[(1, None, None, None, None, None, None, None, None, None, None, None, None, None, None),\n",
       " (2, None, None, None, None, None, None, None, None, None, None, None, None, None, None),\n",
       " (3, None, None, None, None, None, None, None, None, None, None, None, None, None, None),\n",
       " (4, None, None, None, None, None, None, None, None, None, None, None, None, None, None),\n",
       " (5, None, None, None, None, None, None, None, None, None, None, None, None, None, None),\n",
       " (6, None, None, None, None, None, None, None, None, None, None, None, None, None, None),\n",
       " (7, None, None, None, None, None, None, None, None, None, None, None, None, None, None),\n",
       " (8, None, None, None, None, None, None, None, None, None, None, None, None, None, None),\n",
       " (9, None, None, None, None, None, None, None, None, None, None, None, None, None, None),\n",
       " (10, None, None, None, None, None, None, None, None, None, None, None, None, None, None),\n",
       " (11, None, None, None, None, None, None, None, None, None, None, None, None, None, None),\n",
       " (12, None, None, None, None, None, None, None, None, None, None, None, None, None, None),\n",
       " (13, None, None, None, None, None, None, None, None, None, None, None, None, None, None),\n",
       " (14, None, None, None, None, None, None, None, None, None, None, None, None, None, None),\n",
       " (15, None, None, None, None, None, None, None, None, None, None, None, None, None, None),\n",
       " (16, None, None, None, None, None, None, None, None, None, None, None, None, None, None),\n",
       " (17, None, None, None, None, None, None, None, None, None, None, None, None, None, None),\n",
       " (18, None, None, None, None, None, None, None, None, None, None, None, None, None, None),\n",
       " (19, None, None, None, None, None, None, None, None, None, None, None, None, None, None),\n",
       " (20, None, None, None, None, None, None, None, None, None, None, None, None, None, None),\n",
       " (21, None, None, None, None, None, None, None, None, None, None, None, None, None, None),\n",
       " (22, None, None, None, None, None, None, None, None, None, None, None, None, None, None),\n",
       " (23, None, None, None, None, None, None, None, None, None, None, None, None, None, None),\n",
       " (24, None, None, None, None, None, None, None, None, None, None, None, None, None, None),\n",
       " (25, None, None, None, None, None, None, None, None, None, None, None, None, None, None),\n",
       " (26, None, None, None, None, None, None, None, None, None, None, None, None, None, None),\n",
       " (27, None, None, None, None, None, None, None, None, None, None, None, None, None, None),\n",
       " (28, None, None, None, None, None, None, None, None, None, None, None, None, None, None),\n",
       " (29, None, None, None, None, None, None, None, None, None, None, None, None, None, None),\n",
       " (30, None, None, None, None, None, None, None, None, None, None, None, None, None, None),\n",
       " (31, None, None, None, None, None, None, None, None, None, None, None, None, None, None),\n",
       " (32, None, None, None, None, None, None, None, None, None, None, None, None, None, None),\n",
       " (33, None, None, None, None, None, None, None, None, None, None, None, None, None, None),\n",
       " (34, None, None, None, None, None, None, None, None, None, None, None, None, None, None),\n",
       " (35, None, None, None, None, None, None, None, None, None, None, None, None, None, None),\n",
       " (36, None, None, None, None, None, None, None, None, None, None, None, None, None, None),\n",
       " (37, None, None, None, None, None, None, None, None, None, None, None, None, None, None),\n",
       " (38, None, None, None, None, None, None, None, None, None, None, None, None, None, None),\n",
       " (39, None, None, None, None, None, None, None, None, None, None, None, None, None, None),\n",
       " (40, None, None, None, None, None, None, None, None, None, None, None, None, None, None),\n",
       " (41, None, None, None, None, None, None, None, None, None, None, None, None, None, None),\n",
       " (42, None, None, None, None, None, None, None, None, None, None, None, None, None, None),\n",
       " (43, None, None, None, None, None, None, None, None, None, None, None, None, None, None),\n",
       " (44, None, None, None, None, None, None, None, None, None, None, None, None, None, None),\n",
       " (45, None, None, None, None, None, None, None, None, None, None, None, None, None, None),\n",
       " (46, None, None, None, None, None, None, None, None, None, None, None, None, None, None),\n",
       " (47, None, None, None, None, None, None, None, None, None, None, None, None, None, None),\n",
       " (48, None, None, None, None, None, None, None, None, None, None, None, None, None, None),\n",
       " (49, None, None, None, None, None, None, None, None, None, None, None, None, None, None),\n",
       " (50, None, None, None, None, None, None, None, None, None, None, None, None, None, None),\n",
       " (51, None, None, None, None, None, None, None, None, None, None, None, None, None, None)]"
      ]
     },
     "execution_count": 65,
     "metadata": {},
     "output_type": "execute_result"
    }
   ],
   "source": [
    "conn.execute(\"select * from traffic\").fetchall()"
   ]
  },
  {
   "cell_type": "code",
   "execution_count": null,
   "metadata": {
    "collapsed": true
   },
   "outputs": [],
   "source": []
  },
  {
   "cell_type": "code",
   "execution_count": null,
   "metadata": {
    "collapsed": true
   },
   "outputs": [],
   "source": []
  }
 ],
 "metadata": {
  "kernelspec": {
   "display_name": "Python 3",
   "language": "python",
   "name": "python3"
  },
  "language_info": {
   "codemirror_mode": {
    "name": "ipython",
    "version": 3
   },
   "file_extension": ".py",
   "mimetype": "text/x-python",
   "name": "python",
   "nbconvert_exporter": "python",
   "pygments_lexer": "ipython3",
   "version": "3.6.3"
  }
 },
 "nbformat": 4,
 "nbformat_minor": 2
}
