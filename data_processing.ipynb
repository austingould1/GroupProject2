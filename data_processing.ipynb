{
 "cells": [
  {
   "cell_type": "code",
   "execution_count": 15,
   "metadata": {},
   "outputs": [],
   "source": [
    "import pandas as pd\n",
    "import numpy as np\n",
    "import os\n",
    "import sqlalchemy\n",
    "from sqlalchemy import create_engine, MetaData\n",
    "from sqlalchemy.orm import sessionmaker\n",
    "from sqlalchemy.ext.declarative import declarative_base\n",
    "from sqlalchemy import Column, Integer, String, Numeric, Text, Float"
   ]
  },
  {
   "cell_type": "code",
   "execution_count": 2,
   "metadata": {
    "collapsed": true
   },
   "outputs": [],
   "source": [
    "merged_driver_data = pd.read_csv(\"./Merged_Drivers_Data.csv\")"
   ]
  },
  {
   "cell_type": "code",
   "execution_count": 3,
   "metadata": {},
   "outputs": [
    {
     "data": {
      "text/plain": [
       "State                                         object\n",
       "Fatalities_Rate_Per_100_Million                int64\n",
       "Failure_To_Obey                                int64\n",
       "Careless_Driving                               int64\n",
       "Drunk_Driving                                  int64\n",
       "Speeding                                       int64\n",
       "Total_Score                                    int64\n",
       "Ranking_2017                                   int64\n",
       "Population                                     int64\n",
       "Vehicle_Miles_Traveled                         int64\n",
       "Fatal_Crashes                                  int64\n",
       "Deaths                                         int64\n",
       "Deaths_Per_Hunderd_Thousand                  float64\n",
       "Deaths_Per_Hundred_Million_Miles_Traveled    float64\n",
       "dtype: object"
      ]
     },
     "execution_count": 3,
     "metadata": {},
     "output_type": "execute_result"
    }
   ],
   "source": [
    ">>> merged_driver_data['State'].astype(\"str\")\n",
    "merged_driver_data.dtypes"
   ]
  },
  {
   "cell_type": "code",
   "execution_count": 4,
   "metadata": {},
   "outputs": [
    {
     "data": {
      "text/html": [
       "<div>\n",
       "<style>\n",
       "    .dataframe thead tr:only-child th {\n",
       "        text-align: right;\n",
       "    }\n",
       "\n",
       "    .dataframe thead th {\n",
       "        text-align: left;\n",
       "    }\n",
       "\n",
       "    .dataframe tbody tr th {\n",
       "        vertical-align: top;\n",
       "    }\n",
       "</style>\n",
       "<table border=\"1\" class=\"dataframe\">\n",
       "  <thead>\n",
       "    <tr style=\"text-align: right;\">\n",
       "      <th></th>\n",
       "      <th>State</th>\n",
       "      <th>Fatalities_Rate_Per_100_Million</th>\n",
       "      <th>Failure_To_Obey</th>\n",
       "      <th>Careless_Driving</th>\n",
       "      <th>Drunk_Driving</th>\n",
       "      <th>Speeding</th>\n",
       "      <th>Total_Score</th>\n",
       "      <th>Ranking_2017</th>\n",
       "      <th>Population</th>\n",
       "      <th>Vehicle_Miles_Traveled</th>\n",
       "      <th>Fatal_Crashes</th>\n",
       "      <th>Deaths</th>\n",
       "      <th>Deaths_Per_Hunderd_Thousand</th>\n",
       "      <th>Deaths_Per_Hundred_Million_Miles_Traveled</th>\n",
       "    </tr>\n",
       "  </thead>\n",
       "  <tbody>\n",
       "    <tr>\n",
       "      <th>0</th>\n",
       "      <td>Alabama</td>\n",
       "      <td>34</td>\n",
       "      <td>38</td>\n",
       "      <td>42</td>\n",
       "      <td>19</td>\n",
       "      <td>26</td>\n",
       "      <td>159</td>\n",
       "      <td>41</td>\n",
       "      <td>4863300</td>\n",
       "      <td>69553</td>\n",
       "      <td>937</td>\n",
       "      <td>1038</td>\n",
       "      <td>21.3</td>\n",
       "      <td>1.49</td>\n",
       "    </tr>\n",
       "    <tr>\n",
       "      <th>1</th>\n",
       "      <td>Alaska</td>\n",
       "      <td>36</td>\n",
       "      <td>8</td>\n",
       "      <td>25</td>\n",
       "      <td>24</td>\n",
       "      <td>35</td>\n",
       "      <td>128</td>\n",
       "      <td>25</td>\n",
       "      <td>741894</td>\n",
       "      <td>5030</td>\n",
       "      <td>78</td>\n",
       "      <td>84</td>\n",
       "      <td>11.3</td>\n",
       "      <td>1.67</td>\n",
       "    </tr>\n",
       "    <tr>\n",
       "      <th>2</th>\n",
       "      <td>Arizona</td>\n",
       "      <td>42</td>\n",
       "      <td>45</td>\n",
       "      <td>46</td>\n",
       "      <td>36</td>\n",
       "      <td>37</td>\n",
       "      <td>206</td>\n",
       "      <td>50</td>\n",
       "      <td>6931071</td>\n",
       "      <td>66859</td>\n",
       "      <td>865</td>\n",
       "      <td>962</td>\n",
       "      <td>13.9</td>\n",
       "      <td>1.44</td>\n",
       "    </tr>\n",
       "    <tr>\n",
       "      <th>3</th>\n",
       "      <td>Arkansas</td>\n",
       "      <td>47</td>\n",
       "      <td>30</td>\n",
       "      <td>24</td>\n",
       "      <td>22</td>\n",
       "      <td>6</td>\n",
       "      <td>129</td>\n",
       "      <td>26</td>\n",
       "      <td>2988248</td>\n",
       "      <td>36093</td>\n",
       "      <td>488</td>\n",
       "      <td>545</td>\n",
       "      <td>18.2</td>\n",
       "      <td>1.51</td>\n",
       "    </tr>\n",
       "    <tr>\n",
       "      <th>4</th>\n",
       "      <td>California</td>\n",
       "      <td>15</td>\n",
       "      <td>35</td>\n",
       "      <td>43</td>\n",
       "      <td>27</td>\n",
       "      <td>29</td>\n",
       "      <td>149</td>\n",
       "      <td>35</td>\n",
       "      <td>39250017</td>\n",
       "      <td>366402</td>\n",
       "      <td>3357</td>\n",
       "      <td>3623</td>\n",
       "      <td>9.2</td>\n",
       "      <td>0.99</td>\n",
       "    </tr>\n",
       "  </tbody>\n",
       "</table>\n",
       "</div>"
      ],
      "text/plain": [
       "        State  Fatalities_Rate_Per_100_Million  Failure_To_Obey  \\\n",
       "0     Alabama                               34               38   \n",
       "1      Alaska                               36                8   \n",
       "2     Arizona                               42               45   \n",
       "3    Arkansas                               47               30   \n",
       "4  California                               15               35   \n",
       "\n",
       "   Careless_Driving  Drunk_Driving  Speeding  Total_Score  Ranking_2017  \\\n",
       "0                42             19        26          159            41   \n",
       "1                25             24        35          128            25   \n",
       "2                46             36        37          206            50   \n",
       "3                24             22         6          129            26   \n",
       "4                43             27        29          149            35   \n",
       "\n",
       "   Population  Vehicle_Miles_Traveled  Fatal_Crashes  Deaths  \\\n",
       "0     4863300                   69553            937    1038   \n",
       "1      741894                    5030             78      84   \n",
       "2     6931071                   66859            865     962   \n",
       "3     2988248                   36093            488     545   \n",
       "4    39250017                  366402           3357    3623   \n",
       "\n",
       "   Deaths_Per_Hunderd_Thousand  Deaths_Per_Hundred_Million_Miles_Traveled  \n",
       "0                         21.3                                       1.49  \n",
       "1                         11.3                                       1.67  \n",
       "2                         13.9                                       1.44  \n",
       "3                         18.2                                       1.51  \n",
       "4                          9.2                                       0.99  "
      ]
     },
     "execution_count": 4,
     "metadata": {},
     "output_type": "execute_result"
    }
   ],
   "source": [
    "merged_driver_data.head()\n",
    "\n"
   ]
  },
  {
   "cell_type": "code",
   "execution_count": 5,
   "metadata": {},
   "outputs": [
    {
     "data": {
      "text/plain": [
       "{'Careless_Driving': 42,\n",
       " 'Deaths': 1038,\n",
       " 'Deaths_Per_Hunderd_Thousand': 21.3,\n",
       " 'Deaths_Per_Hundred_Million_Miles_Traveled': 1.49,\n",
       " 'Drunk_Driving': 19,\n",
       " 'Failure_To_Obey': 38,\n",
       " 'Fatal_Crashes': 937,\n",
       " 'Fatalities_Rate_Per_100_Million': 34,\n",
       " 'Population': 4863300,\n",
       " 'Ranking_2017': 41,\n",
       " 'Speeding': 26,\n",
       " 'State': 'Alabama',\n",
       " 'Total_Score': 159,\n",
       " 'Vehicle_Miles_Traveled': 69553}"
      ]
     },
     "execution_count": 5,
     "metadata": {},
     "output_type": "execute_result"
    }
   ],
   "source": [
    "\n",
    "data=merged_driver_data.to_dict(orient='records')\n",
    "data[0]\n",
    "\n"
   ]
  },
  {
   "cell_type": "code",
   "execution_count": 28,
   "metadata": {},
   "outputs": [],
   "source": [
    "engine = create_engine(\"sqlite:///traffic.sqlite\")\n",
    "Session = sessionmaker(bind=engine)\n",
    "conn = engine.connect()\n",
    "Base = declarative_base()\n",
    "\n",
    "class traffic(Base):\n",
    "    __tablename__ = 'traffic'\n",
    "\n",
    "    id = Column(Integer, primary_key=True)\n",
    "    State = Column(String)\n",
    "    Fatalities_Rate_Per_100_Million = Column(Integer)\n",
    "    Failure_To_Obey = Column(Integer)\n",
    "    Careless_Driving = Column(Integer)\n",
    "    Drunk_Driving = Column(Integer)\n",
    "    Speeding = Column(Integer)\n",
    "    Total_Score = Column(Integer)\n",
    "    Ranking_2017 = Column(Integer)\n",
    "    Population = Column(Integer)\n",
    "    Vehicle_Miles_Traveled = Column(Integer)\n",
    "    Fatal_Crashes=Column(Integer)\n",
    "    Deaths = Column(Integer)\n",
    "    Deaths_Per_Hunderd_Thousand = Column(Float)\n",
    "    Deaths_Per_Hundred_Million_Miles_Traveled = Column(Float)\n",
    "\n",
    "#    def __repr__(self):\n",
    "#       return f\"id={self.id}, name={self.__tablename__}\"\n",
    "\n",
    "Base.metadata.create_all(engine)\n",
    "session = Session()\n"
   ]
  },
  {
   "cell_type": "code",
   "execution_count": 29,
   "metadata": {
    "collapsed": true
   },
   "outputs": [],
   "source": [
    "metadata = MetaData(bind=engine)\n",
    "metadata.reflect()\n",
    "\n",
    "table= sqlalchemy.Table('traffic',metadata,autoload=True)"
   ]
  },
  {
   "cell_type": "code",
   "execution_count": 44,
   "metadata": {},
   "outputs": [
    {
     "data": {
      "text/plain": [
       "<sqlalchemy.engine.result.ResultProxy at 0x1a9c7d19588>"
      ]
     },
     "execution_count": 44,
     "metadata": {},
     "output_type": "execute_result"
    }
   ],
   "source": [
    "session.execute(table.delete())"
   ]
  },
  {
   "cell_type": "code",
   "execution_count": 45,
   "metadata": {},
   "outputs": [],
   "source": [
    "objs_to_add = []\n",
    "for i,row in enumerate(data):\n",
    "    objs_to_add.append(traffic(id=i, State=row[\"State\"]))\n",
    "\n",
    "session.bulk_save_objects(objs_to_add)"
   ]
  },
  {
   "cell_type": "code",
   "execution_count": 46,
   "metadata": {},
   "outputs": [
    {
     "data": {
      "text/plain": [
       "[(0, 'Alabama', None, None, None, None, None, None, None, None, None, None, None, None, None),\n",
       " (1, 'Alaska', None, None, None, None, None, None, None, None, None, None, None, None, None),\n",
       " (2, 'Arizona', None, None, None, None, None, None, None, None, None, None, None, None, None),\n",
       " (3, 'Arkansas', None, None, None, None, None, None, None, None, None, None, None, None, None),\n",
       " (4, 'California', None, None, None, None, None, None, None, None, None, None, None, None, None),\n",
       " (5, 'Colorado', None, None, None, None, None, None, None, None, None, None, None, None, None),\n",
       " (6, 'Connecticut', None, None, None, None, None, None, None, None, None, None, None, None, None),\n",
       " (7, 'Delaware', None, None, None, None, None, None, None, None, None, None, None, None, None),\n",
       " (8, 'District of Columbia', None, None, None, None, None, None, None, None, None, None, None, None, None),\n",
       " (9, 'Florida', None, None, None, None, None, None, None, None, None, None, None, None, None),\n",
       " (10, 'Georgia', None, None, None, None, None, None, None, None, None, None, None, None, None),\n",
       " (11, 'Hawaii', None, None, None, None, None, None, None, None, None, None, None, None, None),\n",
       " (12, 'Idaho', None, None, None, None, None, None, None, None, None, None, None, None, None),\n",
       " (13, 'Illinois', None, None, None, None, None, None, None, None, None, None, None, None, None),\n",
       " (14, 'Indiana', None, None, None, None, None, None, None, None, None, None, None, None, None),\n",
       " (15, 'Iowa', None, None, None, None, None, None, None, None, None, None, None, None, None),\n",
       " (16, 'Kansas', None, None, None, None, None, None, None, None, None, None, None, None, None),\n",
       " (17, 'Kentucky', None, None, None, None, None, None, None, None, None, None, None, None, None),\n",
       " (18, 'Louisiana', None, None, None, None, None, None, None, None, None, None, None, None, None),\n",
       " (19, 'Maine', None, None, None, None, None, None, None, None, None, None, None, None, None),\n",
       " (20, 'Maryland', None, None, None, None, None, None, None, None, None, None, None, None, None),\n",
       " (21, 'Massachusetts', None, None, None, None, None, None, None, None, None, None, None, None, None),\n",
       " (22, 'Michigan', None, None, None, None, None, None, None, None, None, None, None, None, None),\n",
       " (23, 'Minnesota', None, None, None, None, None, None, None, None, None, None, None, None, None),\n",
       " (24, 'Mississippi', None, None, None, None, None, None, None, None, None, None, None, None, None),\n",
       " (25, 'Missouri', None, None, None, None, None, None, None, None, None, None, None, None, None),\n",
       " (26, 'Montana', None, None, None, None, None, None, None, None, None, None, None, None, None),\n",
       " (27, 'Nebraska', None, None, None, None, None, None, None, None, None, None, None, None, None),\n",
       " (28, 'Nevada', None, None, None, None, None, None, None, None, None, None, None, None, None),\n",
       " (29, 'New Hampshire', None, None, None, None, None, None, None, None, None, None, None, None, None),\n",
       " (30, 'New Jersey', None, None, None, None, None, None, None, None, None, None, None, None, None),\n",
       " (31, 'New Mexico', None, None, None, None, None, None, None, None, None, None, None, None, None),\n",
       " (32, 'New York', None, None, None, None, None, None, None, None, None, None, None, None, None),\n",
       " (33, 'North Carolina', None, None, None, None, None, None, None, None, None, None, None, None, None),\n",
       " (34, 'North Dakota', None, None, None, None, None, None, None, None, None, None, None, None, None),\n",
       " (35, 'Ohio', None, None, None, None, None, None, None, None, None, None, None, None, None),\n",
       " (36, 'Oklahoma', None, None, None, None, None, None, None, None, None, None, None, None, None),\n",
       " (37, 'Oregon', None, None, None, None, None, None, None, None, None, None, None, None, None),\n",
       " (38, 'Pennsylvania', None, None, None, None, None, None, None, None, None, None, None, None, None),\n",
       " (39, 'Rhode Island', None, None, None, None, None, None, None, None, None, None, None, None, None),\n",
       " (40, 'South Carolina', None, None, None, None, None, None, None, None, None, None, None, None, None),\n",
       " (41, 'South Dakota', None, None, None, None, None, None, None, None, None, None, None, None, None),\n",
       " (42, 'Tennessee', None, None, None, None, None, None, None, None, None, None, None, None, None),\n",
       " (43, 'Texas', None, None, None, None, None, None, None, None, None, None, None, None, None),\n",
       " (44, 'Utah', None, None, None, None, None, None, None, None, None, None, None, None, None),\n",
       " (45, 'Vermont', None, None, None, None, None, None, None, None, None, None, None, None, None),\n",
       " (46, 'Virginia', None, None, None, None, None, None, None, None, None, None, None, None, None),\n",
       " (47, 'Washington', None, None, None, None, None, None, None, None, None, None, None, None, None),\n",
       " (48, 'West Virginia', None, None, None, None, None, None, None, None, None, None, None, None, None),\n",
       " (49, 'Wisconsin', None, None, None, None, None, None, None, None, None, None, None, None, None),\n",
       " (50, 'Wyoming', None, None, None, None, None, None, None, None, None, None, None, None, None)]"
      ]
     },
     "execution_count": 46,
     "metadata": {},
     "output_type": "execute_result"
    }
   ],
   "source": [
    "session.execute(\"select * from traffic\").fetchall()"
   ]
  },
  {
   "cell_type": "code",
   "execution_count": null,
   "metadata": {
    "collapsed": true
   },
   "outputs": [],
   "source": []
  },
  {
   "cell_type": "code",
   "execution_count": null,
   "metadata": {
    "collapsed": true
   },
   "outputs": [],
   "source": []
  }
 ],
 "metadata": {
  "kernelspec": {
   "display_name": "Python 3",
   "language": "python",
   "name": "python3"
  },
  "language_info": {
   "codemirror_mode": {
    "name": "ipython",
    "version": 3
   },
   "file_extension": ".py",
   "mimetype": "text/x-python",
   "name": "python",
   "nbconvert_exporter": "python",
   "pygments_lexer": "ipython3",
   "version": "3.6.3"
  }
 },
 "nbformat": 4,
 "nbformat_minor": 2
}
